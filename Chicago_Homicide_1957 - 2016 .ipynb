{
 "cells": [
  {
   "cell_type": "markdown",
   "metadata": {},
   "source": [
    "## Analysis of Chicago Homicides 1957 - 2016"
   ]
  },
  {
   "cell_type": "code",
   "execution_count": 26,
   "metadata": {},
   "outputs": [],
   "source": [
    "#######################################\n",
    "#       Loaded Pkgs\n",
    "#######################################\n",
    "\n",
    "library(dplyr)\n",
    "library(ggplot2)\n",
    "library(tidyr)\n",
    "library(forecast)\n",
    "library(scales) "
   ]
  },
  {
   "cell_type": "code",
   "execution_count": 27,
   "metadata": {},
   "outputs": [],
   "source": [
    "#######################################\n",
    "#         Load File\n",
    "#######################################\n",
    "\n",
    "## set universal plot size:\n",
    "options(repr.plot.width=6, repr.plot.height=4)\n",
    "\n",
    "#  working directory\n",
    "setwd(\"C:/Users/whitf/Documents/R Scripts\")\n",
    "\n",
    "# read file\n",
    "chicago <-read.csv(\"chitrib_r2.csv\",stringsAsFactors = TRUE,header=T, sep=\",\",na.strings= c(\" \", \"NA\"))"
   ]
  },
  {
   "cell_type": "markdown",
   "metadata": {},
   "source": [
    "### Analysis Overview \n",
    "\n",
    "This is a brief analysis of the monthly homicide data as reported by the Chicago Police Department and published by the Chicago Tribune. Data used in this analysis is from the March 2016 Chicago Tribune article, \"Data: Chicago homicide data since 1957\", (http://www.chicagotribune.com/news/local/breaking/ct-chicago-homicides-data-since-1957-20160302-htmlstory.html). Homicides are noted as criminal or unlawful killings. Supplemental data pertaining to the residing administrations are added for further context. This analysis  compares homicides over the past 59 years."
   ]
  },
  {
   "cell_type": "code",
   "execution_count": 28,
   "metadata": {},
   "outputs": [
    {
     "name": "stdout",
     "output_type": "stream",
     "text": [
      "Observations: 59\n",
      "Variables: 22\n",
      "$ X1              <int> 2, 3, 4, 5, 6, 7, 8, 9, 10, 11, 12, 13, 14, 15, 16,...\n",
      "$ year            <int> 1957, 1958, 1959, 1960, 1961, 1962, 1963, 1964, 196...\n",
      "$ X               <lgl> NA, NA, NA, NA, NA, NA, NA, NA, NA, NA, NA, NA, NA,...\n",
      "$ january         <int> 12, 19, 26, 29, 31, 35, 22, 20, 31, 40, 48, 43, 39,...\n",
      "$ february        <int> 21, 20, 26, 29, 19, 34, 23, 30, 25, 30, 41, 44, 37,...\n",
      "$ march           <int> 16, 20, 15, 25, 36, 33, 29, 34, 34, 31, 50, 47, 45,...\n",
      "$ april           <int> 25, 29, 20, 35, 27, 17, 25, 24, 36, 40, 42, 51, 63,...\n",
      "$ may             <int> 29, 34, 25, 28, 38, 26, 24, 39, 27, 28, 41, 58, 71,...\n",
      "$ june            <int> 28, 27, 26, 35, 38, 41, 36, 39, 27, 26, 52, 45, 61,...\n",
      "$ july            <int> 32, 22, 42, 40, 29, 35, 28, 50, 40, 72, 49, 46, 68,...\n",
      "$ august          <int> 31, 28, 41, 35, 38, 33, 39, 26, 50, 52, 37, 64, 67,...\n",
      "$ september       <int> 29, 29, 27, 29, 31, 34, 43, 38, 27, 53, 50, 55, 68,...\n",
      "$ october         <int> 20, 25, 26, 27, 21, 24, 32, 36, 33, 54, 49, 68, 60,...\n",
      "$ november        <int> 28, 24, 28, 31, 26, 34, 34, 27, 27, 35, 43, 63, 66,...\n",
      "$ december        <int> 25, 28, 29, 29, 28, 39, 26, 28, 38, 49, 50, 63, 71,...\n",
      "$ total           <int> 296, 305, 331, 372, 362, 385, 361, 391, 395, 510, 5...\n",
      "$ year_average    <dbl> 24.7, 25.4, 27.6, 31.0, 30.2, 32.1, 30.1, 32.6, 32....\n",
      "$ highest_in_year <int> 32, 34, 42, 40, 38, 41, 43, 50, 50, 72, 52, 68, 71,...\n",
      "$ lowest_in_year  <int> 12, 19, 15, 25, 19, 17, 22, 20, 25, 26, 37, 43, 37,...\n",
      "$ X.1             <lgl> NA, NA, NA, NA, NA, NA, NA, NA, NA, NA, NA, NA, NA,...\n",
      "$ Mayor           <fct> Richard J. Daley, Richard J. Daley, Richard J. Dale...\n",
      "$ Population      <int> 3620962, 3597443, 3573923, 3550404, 3532059, 351371...\n"
     ]
    }
   ],
   "source": [
    "# view dataset \n",
    "glimpse(chicago) "
   ]
  },
  {
   "cell_type": "markdown",
   "metadata": {},
   "source": [
    "### Tenure of Each Administration "
   ]
  },
  {
   "cell_type": "markdown",
   "metadata": {},
   "source": [
    "The presiding Mayor or administration are aligned with the periods in which they held office.  Since the data is from 1957 to 2007, the initial data for Richard M. Daily's are not included.  Richard M. Daily's tenure lasted from April 20, 1955-December 20, 1976. Similarly this analysis does not include data from 2016 forward to capture current data for residing Mayor of Chicago, Rahm Emanuel. Results depict monthly and yearly murders across several administrations.  Below recaps the tenure of each Mayor stemming from Richard M. Daily with the longest at 23 years and Michael A. Bilandic with less than 3 years in office. For ease of interpretation, years are rounded to the nearest whole number.  "
   ]
  },
  {
   "cell_type": "code",
   "execution_count": 29,
   "metadata": {},
   "outputs": [],
   "source": [
    "chi_long <- chicago %>%  \n",
    "        gather('month' ,'homicide_cnt', january:december) %>% \n",
    "        arrange (year) %>%\n",
    "        select( year, month, homicide_cnt) \n",
    "\n",
    "# create date field\n",
    "library(zoo)\n",
    "chi_long$months <-1:12 # create numeric month field\n",
    "chi_long<-within(chi_long, date <- sprintf(\"%d-%02d\", year, months))  # concat year and month as char \n",
    "chi_long$date<- as.Date(as.yearmon(chi_long$date))\n",
    "\n",
    "chi_long <- chi_long %>% mutate(mayor = case_when(\n",
    "                  date < \"1977-01-01\"  ~ \"Richard J. Daley\",\n",
    "                  year = 1977 & date <=  \"1979-04-01\"  ~ \"Michael A. Bilandic\",\n",
    "                  date >= \"1979-05-01\"  & date <=  \"1983-04-01\"  ~ \"Jane Margaret Byrne\",\n",
    "                  date >= \"1983-05-01\"  & date <=  \"1987-11-01\"  ~ \"Harold Washington\",\n",
    "                  date >= \"1987-12-01\"  & date <=  \"1989-4-01\"  ~ \"Eugene Sawyer\",\n",
    "                  date >= \"1989-05-01\"  & date <=  \"2011-4-01\"  ~ \"Richard M. Daley\",\n",
    "                  date >= \"2011-05-01\"   ~ \"Rahm Emanuel\"\n",
    "                ))\n",
    "\n"
   ]
  },
  {
   "cell_type": "code",
   "execution_count": 30,
   "metadata": {},
   "outputs": [
    {
     "data": {},
     "metadata": {},
     "output_type": "display_data"
    },
    {
     "data": {
      "image/png": "[encoded data removed]",
      "text/plain": [
       "plot without title"
      ]
     },
     "metadata": {},
     "output_type": "display_data"
    }
   ],
   "source": [
    "# term in office - serving as mayor \n",
    "tenure <-chi_long %>% \n",
    "                select (date, mayor) %>% \n",
    "                group_by(mayor) %>%\n",
    "                tally() %>%\n",
    "                rename(months_in_office = n) %>%\n",
    "                mutate(months_prop = round(months_in_office/sum(months_in_office),2),\n",
    "                        years_in_office = round(months_in_office/12,0),\n",
    "                        years_prop = round(months_in_office/sum(months_in_office),2))\n",
    "\n",
    "# visual term in office by year                 \n",
    "ggplot(tenure, aes(x = reorder(mayor, years_in_office), y = years_in_office)) + \n",
    "        geom_bar(stat = \"identity\") +\n",
    "        coord_flip()+\n",
    "        scale_y_continuous(name=\"Years in Office\") +\n",
    "        scale_x_discrete(name=\"Admin\") +\n",
    "        geom_text(aes(label= years_in_office), position=position_dodge(width=0.01), hjust=-0.15) \n"
   ]
  },
  {
   "cell_type": "markdown",
   "metadata": {},
   "source": [
    "\n",
    "### Homicide Count by Administration"
   ]
  },
  {
   "cell_type": "markdown",
   "metadata": {},
   "source": [
    "The homicide counts for Richard J. Daley and Richard M. Daley are expected to be exponentially more than the other administrations given their tenure in office.  Below summaries the total number of homicides under each administration. The figures are assumed to be influenced to some degree by economic factors, political climates and/or weather which are not quantified in the data to any significant detail.\n"
   ]
  },
  {
   "cell_type": "code",
   "execution_count": 31,
   "metadata": {},
   "outputs": [
    {
     "data": {},
     "metadata": {},
     "output_type": "display_data"
    },
    {
     "data": {
      "image/png": "[encoded data removed]",
      "text/plain": [
       "plot without title"
      ]
     },
     "metadata": {},
     "output_type": "display_data"
    }
   ],
   "source": [
    "# murders count during tenure        \n",
    "murders_by_mayor<-chi_long %>% \n",
    "                        select (mayor, homicide_cnt) %>% \n",
    "                        group_by(mayor) %>%\n",
    "                        summarise(total_murders = sum(homicide_cnt)) %>%\n",
    "                        mutate(proportion = total_murders/sum(total_murders))\n",
    "\n",
    "\n",
    "# Plot\n",
    "#ggplot(murders_by_mayor, aes(x=mayor,y = total_murders)) + \n",
    "ggplot(murders_by_mayor, aes(x = reorder(mayor, total_murders), y = total_murders))+\n",
    "  geom_point( size=3) +   # Draw points\n",
    "  geom_segment(aes(x=mayor, \n",
    "                   xend=mayor, \n",
    "                   y=min(total_murders), \n",
    "                   yend=max(total_murders)), \n",
    "               linetype=\"dashed\", \n",
    "               size=0.01) +\n",
    "        scale_y_continuous(name=\"Total Murders\") +\n",
    "        scale_x_discrete(name=\"Admin\") +\n",
    "        geom_text(aes(label= total_murders), position=position_dodge(width=0.5), vjust=-0.50) +\n",
    "  coord_flip()\n"
   ]
  },
  {
   "cell_type": "code",
   "execution_count": 32,
   "metadata": {},
   "outputs": [],
   "source": [
    "murder_by_year <-chi_long %>% group_by(year) %>%  summarise(total_murders = sum(homicide_cnt)) %>%\n",
    "                        mutate(proportion = round(total_murders/sum(total_murders),2))"
   ]
  },
  {
   "cell_type": "markdown",
   "metadata": {},
   "source": [
    "### Homicide Patterns"
   ]
  },
  {
   "cell_type": "markdown",
   "metadata": {},
   "source": [
    "Recent homicide patterns suggest a recent downward trend with murders peaking in 1974 and 1992 at 970 and 943 respectively. "
   ]
  },
  {
   "cell_type": "code",
   "execution_count": 33,
   "metadata": {},
   "outputs": [
    {
     "data": {
      "text/html": [
       "<table>\n",
       "<thead><tr><th scope=col>year</th><th scope=col>total_murders</th><th scope=col>proportion</th></tr></thead>\n",
       "<tbody>\n",
       "\t<tr><td>1974</td><td>970 </td><td>0.03</td></tr>\n",
       "\t<tr><td>1992</td><td>943 </td><td>0.03</td></tr>\n",
       "</tbody>\n",
       "</table>\n"
      ],
      "text/latex": [
       "\\begin{tabular}{r|lll}\n",
       " year & total\\_murders & proportion\\\\\n",
       "\\hline\n",
       "\t 1974 & 970  & 0.03\\\\\n",
       "\t 1992 & 943  & 0.03\\\\\n",
       "\\end{tabular}\n"
      ],
      "text/markdown": [
       "\n",
       "year | total_murders | proportion | \n",
       "|---|---|\n",
       "| 1974 | 970  | 0.03 | \n",
       "| 1992 | 943  | 0.03 | \n",
       "\n",
       "\n"
      ],
      "text/plain": [
       "  year total_murders proportion\n",
       "1 1974 970           0.03      \n",
       "2 1992 943           0.03      "
      ]
     },
     "metadata": {},
     "output_type": "display_data"
    }
   ],
   "source": [
    "murder_by_year  %>% filter (proportion == 0.03)"
   ]
  },
  {
   "cell_type": "code",
   "execution_count": 34,
   "metadata": {},
   "outputs": [
    {
     "data": {},
     "metadata": {},
     "output_type": "display_data"
    },
    {
     "data": {
      "image/png": "[encoded data removed]",
      "text/plain": [
       "plot without title"
      ]
     },
     "metadata": {},
     "output_type": "display_data"
    }
   ],
   "source": [
    "\n",
    "ggplot(data = murder_by_year, aes(x = year ,y = total_murders)) +\n",
    "  geom_line(aes(size = proportion), color = \"#FC4E07\") +\n",
    "        #scale_x_continuous(breaks=c(1957, 1967, 1977, 1987, 1997, 2007, 2017))\n",
    "        scale_x_continuous(breaks=c(1957, 1962,1967,1972,1977,1982,1987,1992,1997,2002,2007,2012,2017))"
   ]
  },
  {
   "cell_type": "markdown",
   "metadata": {},
   "source": [
    "\n",
    "### Seasonal Patterns  "
   ]
  },
  {
   "cell_type": "markdown",
   "metadata": {},
   "source": [
    "Homicides over the past 59 years generally peak in the summer months. Administrations of 4 years or more exhibit similar patterns which are not captured by administrations of lesser duration. "
   ]
  },
  {
   "cell_type": "code",
   "execution_count": 35,
   "metadata": {},
   "outputs": [
    {
     "data": {},
     "metadata": {},
     "output_type": "display_data"
    },
    {
     "data": {
      "image/png": "[encoded data removed]",
      "text/plain": [
       "plot without title"
      ]
     },
     "metadata": {},
     "output_type": "display_data"
    }
   ],
   "source": [
    "\n",
    "# insert numeric month \n",
    "# overall deadliest months in chicago\n",
    "deadliest_months<-chi_long %>% \n",
    "                        select (month,mayor,homicide_cnt) %>% \n",
    "                        group_by(mayor,month) %>%\n",
    "                                 #filter (mayor, -contains('Daley'))\n",
    "                        summarise(total_murders = sum(homicide_cnt)) %>%\n",
    "                        mutate(proportion = round(total_murders/sum(total_murders),2),\n",
    "                                monthly_seq = case_when(  month == 'january' ~ 1,\n",
    "                                                          month == 'february' ~ 2,\n",
    "                                                          month == 'march' ~ 3,\n",
    "                                                          month == 'april' ~ 4,\n",
    "                                                          month == 'may' ~ 5,\n",
    "                                                          month == 'june' ~ 6,\n",
    "                                                          month == 'july' ~ 7,\n",
    "                                                          month == 'august' ~ 8,\n",
    "                                                          month == 'september' ~ 9,\n",
    "                                                          month == 'october' ~ 10,\n",
    "                                                          month == 'november'~ 11,\n",
    "                                                          month == 'december' ~ 12 ))   \n",
    "\n",
    "chicago <-read.csv(\"chitrib_r2.csv\",stringsAsFactors = TRUE,header=T, sep=\",\",na.strings= c(\" \", \"NA\"))\n",
    "\n",
    "ggplot(deadliest_months, aes(monthly_seq,total_murders, colour = factor(mayor))) + \n",
    "        geom_line(stat = \"identity\") +\n",
    "        facet_wrap(~mayor, scales=\"free_y\") + \n",
    "        scale_x_continuous(breaks=c(1:12, 1)) +\n",
    "        scale_y_continuous(name=\"Total Murders\") \n"
   ]
  },
  {
   "cell_type": "markdown",
   "metadata": {},
   "source": [
    "\n",
    "### Percent Change in Homicide: 2010-2013 vs 2013-2016"
   ]
  },
  {
   "cell_type": "code",
   "execution_count": 36,
   "metadata": {},
   "outputs": [],
   "source": [
    "\n",
    "rate_2010_2013 <-chi_long %>% \n",
    "                        group_by(month) %>% \n",
    "                        filter(year >=2010 ,year <=2013) %>% \n",
    "                                summarise( rate_2010_2013 = mean(homicide_cnt)) \n",
    "\n",
    "                                   \n",
    "rate_2013 <-chi_long %>% \n",
    "                        group_by(month) %>% \n",
    "                        filter(year > 2013) %>% \n",
    "                        summarise(rate_2013 = mean(homicide_cnt))\n",
    "\n",
    "\n",
    "combo_avg_rate<-inner_join(rate_2013, rate_2010_2013, by = 'month')\n",
    "\n",
    "\n",
    "combo_avg_rate<-combo_avg_rate %>% mutate(perc_change = round((rate_2013-rate_2010_2013)/rate_2010_2013,2),\n",
    "                                          monthly_seq = case_when(  month == 'january' ~ 1,\n",
    "                                                          month == 'february' ~ 2,\n",
    "                                                          month == 'march' ~ 3,\n",
    "                                                          month == 'april' ~ 4,\n",
    "                                                          month == 'may' ~ 5,\n",
    "                                                          month == 'june' ~ 6,\n",
    "                                                          month == 'july' ~ 7,\n",
    "                                                          month == 'august' ~ 8,\n",
    "                                                          month == 'september' ~ 9,\n",
    "                                                          month == 'october' ~ 10,\n",
    "                                                          month == 'november'~ 11,\n",
    "                                                          month == 'december' ~ 12 )) %>% arrange (monthly_seq)\n",
    "\n",
    "overall_mean<-combo_avg_rate %>% summarize (avg = round(mean (perc_change),2))\n"
   ]
  },
  {
   "cell_type": "markdown",
   "metadata": {},
   "source": [
    "The mean percentage change in homicide between 2010 - 2013 and 2013 - 2016 is -0.01. On average, the mean percentage change during this period declined -0.22 and -0.18 in January and October respectively, partially offset by an increase of 0.35 in September.\n"
   ]
  },
  {
   "cell_type": "code",
   "execution_count": 38,
   "metadata": {},
   "outputs": [
    {
     "data": {},
     "metadata": {},
     "output_type": "display_data"
    },
    {
     "data": {
      "image/png": "[encoded data removed]",
      "text/plain": [
       "plot without title"
      ]
     },
     "metadata": {},
     "output_type": "display_data"
    }
   ],
   "source": [
    "# Plot\n",
    "ggplot(combo_avg_rate, aes(x= monthly_seq, y=perc_change, label=perc_change)) + \n",
    "  geom_point(stat='identity', fill=\"black\", size=6)  +\n",
    "  geom_segment(aes(y = 0, \n",
    "                   x = monthly_seq, \n",
    "                   yend = perc_change, \n",
    "                   xend = monthly_seq), \n",
    "               color = \"black\") +\n",
    "  geom_text(color=\"white\", size=2) +\n",
    "       scale_x_continuous(breaks=c(1:12, 1)) +\n",
    "       scale_y_continuous(name=\"Percent Change in Homicide\") "
   ]
  }
 ],
 "metadata": {
  "kernelspec": {
   "display_name": "R",
   "language": "R",
   "name": "ir"
  },
  "language_info": {
   "codemirror_mode": "r",
   "file_extension": ".r",
   "mimetype": "text/x-r-source",
   "name": "R",
   "pygments_lexer": "r",
   "version": "3.5.1"
  }
 },
 "nbformat": 4,
 "nbformat_minor": 2
}
